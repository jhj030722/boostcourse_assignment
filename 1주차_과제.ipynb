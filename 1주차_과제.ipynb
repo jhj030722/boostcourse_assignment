{
  "nbformat": 4,
  "nbformat_minor": 0,
  "metadata": {
    "colab": {
      "provenance": [],
      "toc_visible": true,
      "authorship_tag": "ABX9TyNWX+p8nnyX09pPIKSI3tSB",
      "include_colab_link": true
    },
    "kernelspec": {
      "name": "python3",
      "display_name": "Python 3"
    },
    "language_info": {
      "name": "python"
    }
  },
  "cells": [
    {
      "cell_type": "markdown",
      "metadata": {
        "id": "view-in-github",
        "colab_type": "text"
      },
      "source": [
        "<a href=\"https://colab.research.google.com/github/jhj030722/boostcourse_assignment/blob/main/1%EC%A3%BC%EC%B0%A8_%EA%B3%BC%EC%A0%9C.ipynb\" target=\"_parent\"><img src=\"https://colab.research.google.com/assets/colab-badge.svg\" alt=\"Open In Colab\"/></a>"
      ]
    },
    {
      "cell_type": "markdown",
      "source": [
        "# 4. 데이터 사이언스를 위한 파이썬"
      ],
      "metadata": {
        "id": "cVw9tjaGnzWO"
      }
    },
    {
      "cell_type": "markdown",
      "source": [
        "## 4.1 파이썬의 자료형"
      ],
      "metadata": {
        "id": "lAVceePvn6hE"
      }
    },
    {
      "cell_type": "code",
      "execution_count": null,
      "metadata": {
        "id": "ep9SOPKrnxJL"
      },
      "outputs": [],
      "source": [
        "내용"
      ]
    },
    {
      "cell_type": "code",
      "source": [
        "내용"
      ],
      "metadata": {
        "id": "b8Sf9YfSn897"
      },
      "execution_count": null,
      "outputs": []
    },
    {
      "cell_type": "markdown",
      "source": [
        "## 4.2 파이썬의 제어문과 함수"
      ],
      "metadata": {
        "id": "aZ73XgFxn9rj"
      }
    },
    {
      "cell_type": "code",
      "source": [
        "내용 코드"
      ],
      "metadata": {
        "id": "wdegtExHn-lz"
      },
      "execution_count": null,
      "outputs": []
    },
    {
      "cell_type": "code",
      "source": [
        "내용 코드"
      ],
      "metadata": {
        "id": "_6KHyoopn_SQ"
      },
      "execution_count": null,
      "outputs": []
    },
    {
      "cell_type": "markdown",
      "source": [
        "# 5. 파이썬 EDA"
      ],
      "metadata": {
        "id": "ykQJ0L7qoAPR"
      }
    },
    {
      "cell_type": "markdown",
      "source": [
        "## 5.0 파이썬 탐색적 데이터 분석 소개"
      ],
      "metadata": {
        "id": "qMnCefLSoCIV"
      }
    },
    {
      "cell_type": "code",
      "source": [
        "내용 코드"
      ],
      "metadata": {
        "id": "N6sHKquwoJ2Z"
      },
      "execution_count": null,
      "outputs": []
    },
    {
      "cell_type": "markdown",
      "source": [
        "## 5.1 판다스 기초와 데이터 요약\n"
      ],
      "metadata": {
        "id": "DgZMjbnmoGwC"
      }
    },
    {
      "cell_type": "code",
      "source": [
        "내용 코드"
      ],
      "metadata": {
        "id": "qA2qUrGHoLC5"
      },
      "execution_count": null,
      "outputs": []
    }
  ]
}